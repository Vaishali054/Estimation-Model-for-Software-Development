{
 "cells": [
  {
   "cell_type": "code",
   "execution_count": 8,
   "metadata": {},
   "outputs": [],
   "source": [
    "import arff, numpy as np\n",
    "import pandas as pd\n",
    "import matplotlib.pyplot as plt\n",
    "from sklearn.ensemble import RandomForestRegressor\n",
    "from sklearn.tree import DecisionTreeRegressor\n",
    "from sklearn.model_selection import train_test_split\n",
    "from sklearn import preprocessing\n",
    "from sklearn.model_selection import KFold,cross_val_score\n",
    "from sklearn.model_selection import GridSearchCV,RandomizedSearchCV\n",
    "\n"
   ]
  },
  {
   "cell_type": "code",
   "execution_count": 9,
   "metadata": {},
   "outputs": [],
   "source": [
    "dataset = arff.load(open('cocomo811.arff'))\n",
    "data=np.array(dataset['data'])"
   ]
  },
  {
   "cell_type": "code",
   "execution_count": 10,
   "metadata": {},
   "outputs": [
    {
     "data": {
      "text/plain": [
       "(63, 17)"
      ]
     },
     "execution_count": 10,
     "metadata": {},
     "output_type": "execute_result"
    }
   ],
   "source": [
    "data.shape"
   ]
  },
  {
   "cell_type": "code",
   "execution_count": 12,
   "metadata": {},
   "outputs": [],
   "source": [
    "X=data[:,0:16]\n",
    "Y=data[:,16:17]"
   ]
  },
  {
   "cell_type": "code",
   "execution_count": 16,
   "metadata": {},
   "outputs": [
    {
     "data": {
      "text/plain": [
       "(   Feature_1  Feature_2  Feature_3  Feature_4  Feature_5  Feature_6  \\\n",
       " 0       0.88       1.16       0.70        1.0       1.06       1.15   \n",
       " 1       0.88       1.16       0.85        1.0       1.06       1.00   \n",
       " 2       1.00       1.16       0.85        1.0       1.00       0.87   \n",
       " 3       0.75       1.16       0.70        1.0       1.00       0.87   \n",
       " 4       0.88       0.94       1.00        1.0       1.00       0.87   \n",
       " \n",
       "    Feature_7  Feature_8  Feature_9  Feature_10  Feature_11  Feature_12  \\\n",
       " 0       1.07       1.19       1.13        1.17         1.1        1.00   \n",
       " 1       1.07       1.00       0.91        1.00         0.9        0.95   \n",
       " 2       0.94       0.86       0.82        0.86         0.9        0.95   \n",
       " 3       1.00       1.19       0.91        1.42         1.0        0.95   \n",
       " 4       1.00       1.00       1.00        0.86         0.9        0.95   \n",
       " \n",
       "    Feature_13  Feature_14  Feature_15  Feature_16  \n",
       " 0        1.24        1.10        1.04       113.0  \n",
       " 1        1.10        1.00        1.00       293.0  \n",
       " 2        0.91        0.91        1.00       132.0  \n",
       " 3        1.24        1.00        1.04        60.0  \n",
       " 4        1.24        1.00        1.00        16.0  ,\n",
       "    actual\n",
       " 0  2040.0\n",
       " 1  1600.0\n",
       " 2   243.0\n",
       " 3   240.0\n",
       " 4    33.0)"
      ]
     },
     "execution_count": 16,
     "metadata": {},
     "output_type": "execute_result"
    }
   ],
   "source": [
    "# Convert to pandas DataFrames\n",
    "X_df = pd.DataFrame(X, columns=[f'Feature_{i+1}' for i in range(X.shape[1])])\n",
    "Y_df = pd.DataFrame(Y, columns=['actual'])\n",
    "\n",
    "X_df.head(), Y_df.head()"
   ]
  },
  {
   "cell_type": "code",
   "execution_count": 13,
   "metadata": {},
   "outputs": [
    {
     "name": "stdout",
     "output_type": "stream",
     "text": [
      "(63, 1)\n"
     ]
    }
   ],
   "source": [
    "\n",
    "print(Y.shape)\n",
    "# Y=Y.reshape(63)\n",
    "# print(Y.shape)"
   ]
  },
  {
   "cell_type": "code",
   "execution_count": 14,
   "metadata": {},
   "outputs": [
    {
     "data": {
      "text/plain": [
       "(63, 16)"
      ]
     },
     "execution_count": 14,
     "metadata": {},
     "output_type": "execute_result"
    }
   ],
   "source": [
    "X.shape"
   ]
  },
  {
   "cell_type": "code",
   "execution_count": 15,
   "metadata": {},
   "outputs": [
    {
     "ename": "AttributeError",
     "evalue": "'numpy.ndarray' object has no attribute 'select_dtypes'",
     "output_type": "error",
     "traceback": [
      "\u001b[1;31m---------------------------------------------------------------------------\u001b[0m",
      "\u001b[1;31mAttributeError\u001b[0m                            Traceback (most recent call last)",
      "Cell \u001b[1;32mIn[15], line 18\u001b[0m\n\u001b[0;32m     15\u001b[0m     \u001b[38;5;28;01mreturn\u001b[39;00m outliers_dict\n\u001b[0;32m     17\u001b[0m \u001b[38;5;66;03m# Detecting outliers for all numeric columns\u001b[39;00m\n\u001b[1;32m---> 18\u001b[0m outliers_dict \u001b[38;5;241m=\u001b[39m \u001b[43mdetect_outliers_iqr\u001b[49m\u001b[43m(\u001b[49m\u001b[43mX\u001b[49m\u001b[43m)\u001b[49m\n\u001b[0;32m     20\u001b[0m \u001b[38;5;66;03m# Display outliers for each column\u001b[39;00m\n\u001b[0;32m     21\u001b[0m \u001b[38;5;28;01mfor\u001b[39;00m column, outliers \u001b[38;5;129;01min\u001b[39;00m outliers_dict\u001b[38;5;241m.\u001b[39mitems():\n",
      "Cell \u001b[1;32mIn[15], line 4\u001b[0m, in \u001b[0;36mdetect_outliers_iqr\u001b[1;34m(df)\u001b[0m\n\u001b[0;32m      2\u001b[0m \u001b[38;5;28;01mdef\u001b[39;00m \u001b[38;5;21mdetect_outliers_iqr\u001b[39m(df):\n\u001b[0;32m      3\u001b[0m     outliers_dict \u001b[38;5;241m=\u001b[39m {}\n\u001b[1;32m----> 4\u001b[0m     \u001b[38;5;28;01mfor\u001b[39;00m column \u001b[38;5;129;01min\u001b[39;00m \u001b[43mdf\u001b[49m\u001b[38;5;241;43m.\u001b[39;49m\u001b[43mselect_dtypes\u001b[49m(include\u001b[38;5;241m=\u001b[39m[np\u001b[38;5;241m.\u001b[39mnumber])\u001b[38;5;241m.\u001b[39mcolumns:  \u001b[38;5;66;03m# Only numeric columns\u001b[39;00m\n\u001b[0;32m      5\u001b[0m         Q1 \u001b[38;5;241m=\u001b[39m df[column]\u001b[38;5;241m.\u001b[39mquantile(\u001b[38;5;241m0.25\u001b[39m)\n\u001b[0;32m      6\u001b[0m         Q3 \u001b[38;5;241m=\u001b[39m df[column]\u001b[38;5;241m.\u001b[39mquantile(\u001b[38;5;241m0.75\u001b[39m)\n",
      "\u001b[1;31mAttributeError\u001b[0m: 'numpy.ndarray' object has no attribute 'select_dtypes'"
     ]
    }
   ],
   "source": [
    "# Function to detect outliers using IQR for the entire dataframe\n",
    "def detect_outliers_iqr(df):\n",
    "    outliers_dict = {}\n",
    "    for column in df.select_dtypes(include=[np.number]).columns:  # Only numeric columns\n",
    "        Q1 = df[column].quantile(0.25)\n",
    "        Q3 = df[column].quantile(0.75)\n",
    "        IQR = Q3 - Q1\n",
    "        lower_bound = Q1 - 1.5 * IQR\n",
    "        upper_bound = Q3 + 1.5 * IQR\n",
    "        outliers = df[(df[column] < lower_bound) | (df[column] > upper_bound)]\n",
    "        \n",
    "        # Store outliers for each column\n",
    "        if not outliers.empty:\n",
    "            outliers_dict[column] = outliers\n",
    "    return outliers_dict\n",
    "\n",
    "# Detecting outliers for all numeric columns\n",
    "outliers_dict = detect_outliers_iqr(X)\n",
    "\n",
    "# Display outliers for each column\n",
    "for column, outliers in outliers_dict.items():\n",
    "    print(f\"Outliers in '{column}':\")\n",
    "    print(outliers[['Project', column]])  # Display only the project and the outlier column\n",
    "    print(\"\\n\")"
   ]
  },
  {
   "cell_type": "markdown",
   "metadata": {},
   "source": [
    "# Cocomo n_estimator=100 and max_features= 1 to 16"
   ]
  },
  {
   "cell_type": "code",
   "execution_count": 7,
   "metadata": {},
   "outputs": [],
   "source": [
    "\n",
    "X_train, X_test, y_train, y_test = train_test_split(\n",
    "    X, Y, test_size=0.30, random_state=42)"
   ]
  },
  {
   "cell_type": "code",
   "execution_count": 8,
   "metadata": {},
   "outputs": [],
   "source": [
    "lab_enc = preprocessing.LabelEncoder()\n",
    "training_scores_encoded = lab_enc.fit_transform(y_train)"
   ]
  },
  {
   "cell_type": "code",
   "execution_count": 9,
   "metadata": {},
   "outputs": [],
   "source": [
    "n_feature=7\n",
    "MMRE_list=[]\n",
    "MdMRE_list=[]\n",
    "Pred_list= []\n",
    "for i in np.arange(1,11):   \n",
    "    clf= RandomForestRegressor(n_estimators=100,max_features=i)\n",
    "    clf.fit(X_train, training_scores_encoded)\n",
    "    Y_pred=clf.predict(X_test)\n",
    "    diff=np.absolute(y_test-Y_pred)\n",
    "    MRE=diff/y_test\n",
    "    MMRE=np.mean(MRE)\n",
    "    MdMRE=np.median(MRE)\n",
    "    P=MRE[MRE<.25]\n",
    "    Pred=(P.size/MRE.size) * 100\n",
    "    MMRE_list.append(MMRE)\n",
    "    MdMRE_list.append(MdMRE)\n",
    "    Pred_list.append(Pred)"
   ]
  },
  {
   "cell_type": "code",
   "execution_count": null,
   "metadata": {},
   "outputs": [],
   "source": [
    "MMRE_list"
   ]
  },
  {
   "cell_type": "code",
   "execution_count": null,
   "metadata": {},
   "outputs": [],
   "source": [
    "MdMRE_list"
   ]
  },
  {
   "cell_type": "code",
   "execution_count": null,
   "metadata": {},
   "outputs": [],
   "source": [
    "Pred_list"
   ]
  },
  {
   "cell_type": "code",
   "execution_count": null,
   "metadata": {},
   "outputs": [],
   "source": [
    "import matplotlib.pyplot as plt\n",
    "import numpy as np\n",
    "\n",
    "x = np.arange(1,11)\n",
    "\n",
    "plt.plot(x, MMRE_list)\n",
    "plt.plot(x, MdMRE_list)\n",
    "\n",
    "plt.legend(['MMRE','MdMRE'], loc='upper right')\n",
    "\n",
    "plt.show()"
   ]
  },
  {
   "cell_type": "code",
   "execution_count": null,
   "metadata": {},
   "outputs": [],
   "source": [
    "plt.plot(x, Pred_list)\n",
    "plt.legend(['Pred'], loc='upper right')\n",
    "plt.show()"
   ]
  },
  {
   "cell_type": "markdown",
   "metadata": {},
   "source": [
    "# COCOMO n_estimator=100 to 2000 and max_features= 7\n"
   ]
  },
  {
   "cell_type": "code",
   "execution_count": 15,
   "metadata": {},
   "outputs": [],
   "source": [
    "MMRE_list=[]\n",
    "MdMRE_list=[]\n",
    "Pred_list= []\n",
    "for i in np.arange(100,1100,100):   \n",
    "    clf= RandomForestRegressor(n_estimators=i,max_features=7)\n",
    "    clf.fit(X_train, training_scores_encoded)\n",
    "    Y_pred=clf.predict(X_test)\n",
    "    diff=np.absolute(y_test-Y_pred)\n",
    "    MRE=diff/y_test\n",
    "    MMRE=np.mean(MRE)\n",
    "    MdMRE=np.median(MRE)\n",
    "    P=MRE[MRE<.25]\n",
    "    Pred=(P.size/MRE.size) * 100\n",
    "    MMRE_list.append(MMRE)\n",
    "    MdMRE_list.append(MdMRE)\n",
    "    Pred_list.append(Pred)"
   ]
  },
  {
   "cell_type": "code",
   "execution_count": null,
   "metadata": {},
   "outputs": [],
   "source": [
    "MMRE_list"
   ]
  },
  {
   "cell_type": "code",
   "execution_count": null,
   "metadata": {},
   "outputs": [],
   "source": [
    "MdMRE_list"
   ]
  },
  {
   "cell_type": "code",
   "execution_count": null,
   "metadata": {},
   "outputs": [],
   "source": [
    "Pred_list"
   ]
  },
  {
   "cell_type": "code",
   "execution_count": null,
   "metadata": {},
   "outputs": [],
   "source": [
    "x = np.arange(100,1100,100)\n",
    "plt.plot(x, MMRE_list)\n",
    "plt.plot(x, MdMRE_list)\n",
    "\n",
    "plt.legend(['MMRE','MdMRE'], loc='upper right')\n",
    "\n",
    "plt.show()"
   ]
  },
  {
   "cell_type": "code",
   "execution_count": null,
   "metadata": {},
   "outputs": [],
   "source": [
    "plt.plot(x, Pred_list)\n",
    "plt.legend(['Pred'], loc='upper right')\n",
    "plt.show()"
   ]
  },
  {
   "cell_type": "markdown",
   "metadata": {},
   "source": [
    "# GridSearchCV"
   ]
  },
  {
   "cell_type": "code",
   "execution_count": 21,
   "metadata": {},
   "outputs": [],
   "source": [
    "params_grd={\n",
    " 'max_features': [1,2,3,4,5,6,7,8,9,10],\n",
    "  'n_estimators': [200, 400, 600, 800, 1000, 1200, 1400, 1600, 1800, 2000]}"
   ]
  },
  {
   "cell_type": "code",
   "execution_count": null,
   "metadata": {},
   "outputs": [],
   "source": [
    "clf= RandomForestRegressor()\n",
    "grd_search=GridSearchCV(estimator = clf, param_grid = params_grd, \n",
    "                          cv = 10, n_jobs = -1, verbose = 2)\n",
    "grd_search.fit(X_train, training_scores_encoded)\n",
    "best_grid = grd_search.best_estimator_\n",
    "\n",
    "Y_pred=best_grid.predict(X_test)\n",
    "diff=np.absolute(y_test-Y_pred)\n",
    "MRE=diff/y_test\n",
    "MMRE=np.mean(MRE)\n",
    "MdMRE=np.median(MRE)\n",
    "P=MRE[MRE<.25]\n",
    "Pred=(P.size/MRE.size) * 100\n"
   ]
  },
  {
   "cell_type": "code",
   "execution_count": null,
   "metadata": {},
   "outputs": [],
   "source": [
    "print(MMRE)\n",
    "print(MdMRE)\n",
    "print(Pred)"
   ]
  },
  {
   "cell_type": "code",
   "execution_count": null,
   "metadata": {},
   "outputs": [],
   "source": [
    "grd_search.best_params_"
   ]
  },
  {
   "cell_type": "markdown",
   "metadata": {},
   "source": [
    "\n",
    "# Random Hyperparameter Grid"
   ]
  },
  {
   "cell_type": "code",
   "execution_count": 25,
   "metadata": {},
   "outputs": [],
   "source": [
    "Random_grid={'bootstrap': [True, False],\n",
    " 'max_depth': [10, 20, 30, 40, 50, 60, 70, 80, 90, 100, None],\n",
    " 'max_features': [1,2,3,4,5,6,7,8,9,10],\n",
    " 'min_samples_leaf': [1, 2, 4],\n",
    " 'min_samples_split': [2, 5, 10],\n",
    " 'n_estimators': [200, 400, 600, 800, 1000, 1200, 1400, 1600, 1800, 2000]}"
   ]
  },
  {
   "cell_type": "code",
   "execution_count": null,
   "metadata": {},
   "outputs": [],
   "source": [
    "clf= RandomForestRegressor()\n",
    "random_grd_search=RandomizedSearchCV(estimator = clf, param_distributions = Random_grid, n_iter = 80, cv = 10, \n",
    "                              verbose=2, random_state=42, n_jobs = -1)\n",
    "random_grd_search.fit(X_train, training_scores_encoded)\n",
    "best_grid = random_grd_search.best_estimator_\n",
    "\n",
    "Y_pred=best_grid.predict(X_test)\n",
    "diff=np.absolute(y_test-Y_pred)\n",
    "MRE=diff/y_test\n",
    "MMRE=np.mean(MRE)\n",
    "MdMRE=np.median(MRE)\n",
    "P=MRE[MRE<.25]\n",
    "Pred=(P.size/MRE.size) * 100\n"
   ]
  },
  {
   "cell_type": "code",
   "execution_count": null,
   "metadata": {},
   "outputs": [],
   "source": [
    "print(MMRE)\n",
    "print(MdMRE)\n",
    "print(Pred)"
   ]
  },
  {
   "cell_type": "code",
   "execution_count": null,
   "metadata": {},
   "outputs": [],
   "source": [
    "random_grd_search.best_params_"
   ]
  },
  {
   "cell_type": "markdown",
   "metadata": {},
   "source": [
    "#  Regression Tree Analysis"
   ]
  },
  {
   "cell_type": "code",
   "execution_count": 29,
   "metadata": {},
   "outputs": [],
   "source": [
    "clf= DecisionTreeRegressor(max_depth=30, min_samples_split=20)\n",
    "clf.fit(X_train, training_scores_encoded)\n",
    "Y_pred=clf.predict(X_test)\n",
    "diff=np.absolute(y_test-Y_pred)\n",
    "MRE=diff/y_test\n",
    "MMRE=np.mean(MRE)\n",
    "MdMRE=np.median(MRE)\n",
    "P=MRE[MRE<.25]\n",
    "Pred=(P.size/MRE.size) * 100"
   ]
  },
  {
   "cell_type": "code",
   "execution_count": null,
   "metadata": {},
   "outputs": [],
   "source": [
    "print(MMRE)\n",
    "print(MdMRE)\n",
    "print(Pred)"
   ]
  },
  {
   "cell_type": "code",
   "execution_count": null,
   "metadata": {},
   "outputs": [],
   "source": []
  },
  {
   "cell_type": "code",
   "execution_count": null,
   "metadata": {},
   "outputs": [],
   "source": []
  }
 ],
 "metadata": {
  "kernelspec": {
   "display_name": "Python 3",
   "language": "python",
   "name": "python3"
  },
  "language_info": {
   "codemirror_mode": {
    "name": "ipython",
    "version": 3
   },
   "file_extension": ".py",
   "mimetype": "text/x-python",
   "name": "python",
   "nbconvert_exporter": "python",
   "pygments_lexer": "ipython3",
   "version": "3.10.6"
  }
 },
 "nbformat": 4,
 "nbformat_minor": 2
}
